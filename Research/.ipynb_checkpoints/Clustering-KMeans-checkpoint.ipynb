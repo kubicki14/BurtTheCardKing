{
 "cells": [
  {
   "cell_type": "code",
   "execution_count": 88,
   "metadata": {},
   "outputs": [],
   "source": [
    "'''\n",
    "STEP1: GATHER THE DATA\n",
    "- Use Selenium/BeautifulSoup to webscrape CARDNAME|CARDTEXT|FACTION(S), then store in csv or xls.\n",
    "OR\n",
    "- Find somebody's already made excel with card and text details.\n",
    "STEP2: REMOVE STOPWORDS AND PERFORM K-MEANS ALG. ON CARDTEXT\n",
    "- Initially I wanted to group the factions, THEN cluster on the text, but for the first run we will cluster on just the text.\n",
    "'''\n",
    "\n",
    "\n",
    "# import numpy as np \n",
    "# import pandas as pd \n",
    "# import matplotlib.pyplot as plt\n",
    "# import seaborn as sns\n",
    "# from sklearn.feature_extraction import text\n",
    "# from sklearn.feature_extraction.text import TfidfVectorizer\n",
    "# from sklearn.cluster import KMeans\n",
    "# from nltk.tokenize import RegexpTokenizer\n",
    "# from nltk.stem.snowball import SnowballStemmer\n",
    "# %matplotlib inline\n",
    "# import re\n",
    "# import requests\n",
    "# from bs4 import BeautifulSoup\n",
    "# # import json\n",
    "# import warnings\n",
    "# import mechanicalsoup\n",
    "# warnings.filterwarnings(action='once')\n",
    "import pandas as pd\n",
    "import re\n",
    "%matplotlib inline\n",
    "import matplotlib.pyplot as plt\n",
    "import seaborn as sns; sns.set()  # for plot styling\n",
    "import numpy as np\n",
    "\n"
   ]
  },
  {
   "cell_type": "markdown",
   "metadata": {},
   "source": [
    "## Pull in and clean the data"
   ]
  },
  {
   "cell_type": "code",
   "execution_count": 89,
   "metadata": {},
   "outputs": [
    {
     "data": {
      "text/html": [
       "<div>\n",
       "<style scoped>\n",
       "    .dataframe tbody tr th:only-of-type {\n",
       "        vertical-align: middle;\n",
       "    }\n",
       "\n",
       "    .dataframe tbody tr th {\n",
       "        vertical-align: top;\n",
       "    }\n",
       "\n",
       "    .dataframe thead th {\n",
       "        text-align: right;\n",
       "    }\n",
       "</style>\n",
       "<table border=\"1\" class=\"dataframe\">\n",
       "  <thead>\n",
       "    <tr style=\"text-align: right;\">\n",
       "      <th></th>\n",
       "      <th>name</th>\n",
       "      <th>faction</th>\n",
       "      <th>type</th>\n",
       "      <th>text</th>\n",
       "    </tr>\n",
       "  </thead>\n",
       "  <tbody>\n",
       "    <tr>\n",
       "      <th>0</th>\n",
       "      <td>Fire Sigil</td>\n",
       "      <td>Fire</td>\n",
       "      <td>Power</td>\n",
       "      <td>NONE</td>\n",
       "    </tr>\n",
       "    <tr>\n",
       "      <th>1</th>\n",
       "      <td>Granite Monument</td>\n",
       "      <td>Fire</td>\n",
       "      <td>Power</td>\n",
       "      <td>Depleted Gain Fire Transmute 5: 4/1 Magmahound...</td>\n",
       "    </tr>\n",
       "    <tr>\n",
       "      <th>2</th>\n",
       "      <td>Granite Waystone</td>\n",
       "      <td>Fire</td>\n",
       "      <td>Power</td>\n",
       "      <td>Gain Fire, then if you have FireFireFireFire, ...</td>\n",
       "    </tr>\n",
       "    <tr>\n",
       "      <th>3</th>\n",
       "      <td>Shugo Standard</td>\n",
       "      <td>Fire</td>\n",
       "      <td>Power</td>\n",
       "      <td>Depleted Gain Fire. Transmute 5: Shugo Tactic.</td>\n",
       "    </tr>\n",
       "    <tr>\n",
       "      <th>4</th>\n",
       "      <td>Helpful Doorbot</td>\n",
       "      <td>Fire</td>\n",
       "      <td>Unit</td>\n",
       "      <td>NONE</td>\n",
       "    </tr>\n",
       "  </tbody>\n",
       "</table>\n",
       "</div>"
      ],
      "text/plain": [
       "               name faction   type  \\\n",
       "0        Fire Sigil    Fire  Power   \n",
       "1  Granite Monument    Fire  Power   \n",
       "2  Granite Waystone    Fire  Power   \n",
       "3    Shugo Standard    Fire  Power   \n",
       "4   Helpful Doorbot    Fire   Unit   \n",
       "\n",
       "                                                text  \n",
       "0                                               NONE  \n",
       "1  Depleted Gain Fire Transmute 5: 4/1 Magmahound...  \n",
       "2  Gain Fire, then if you have FireFireFireFire, ...  \n",
       "3     Depleted Gain Fire. Transmute 5: Shugo Tactic.  \n",
       "4                                               NONE  "
      ]
     },
     "execution_count": 89,
     "metadata": {},
     "output_type": "execute_result"
    }
   ],
   "source": [
    "all_cards = pd.read_excel('all_cards.xlsx')\n",
    "all_cards.head()"
   ]
  },
  {
   "cell_type": "code",
   "execution_count": 90,
   "metadata": {},
   "outputs": [
    {
     "data": {
      "text/plain": [
       "1648"
      ]
     },
     "execution_count": 90,
     "metadata": {},
     "output_type": "execute_result"
    }
   ],
   "source": [
    "# Remove all cards where the text is NONE (73/1721 cards)\n",
    "all_cards = all_cards[all_cards['text'] != 'NONE'].copy()\n",
    "len(all_cards)"
   ]
  },
  {
   "cell_type": "code",
   "execution_count": 91,
   "metadata": {},
   "outputs": [
    {
     "data": {
      "text/html": [
       "<div>\n",
       "<style scoped>\n",
       "    .dataframe tbody tr th:only-of-type {\n",
       "        vertical-align: middle;\n",
       "    }\n",
       "\n",
       "    .dataframe tbody tr th {\n",
       "        vertical-align: top;\n",
       "    }\n",
       "\n",
       "    .dataframe thead th {\n",
       "        text-align: right;\n",
       "    }\n",
       "</style>\n",
       "<table border=\"1\" class=\"dataframe\">\n",
       "  <thead>\n",
       "    <tr style=\"text-align: right;\">\n",
       "      <th></th>\n",
       "      <th>name</th>\n",
       "      <th>faction</th>\n",
       "      <th>type</th>\n",
       "      <th>text</th>\n",
       "    </tr>\n",
       "  </thead>\n",
       "  <tbody>\n",
       "    <tr>\n",
       "      <th>1</th>\n",
       "      <td>Granite Monument</td>\n",
       "      <td>Fire</td>\n",
       "      <td>Power</td>\n",
       "      <td>Depleted Gain Fire Transmute   Magmahound with...</td>\n",
       "    </tr>\n",
       "    <tr>\n",
       "      <th>2</th>\n",
       "      <td>Granite Waystone</td>\n",
       "      <td>Fire</td>\n",
       "      <td>Power</td>\n",
       "      <td>Gain Fire then if you have FireFireFireFire cr...</td>\n",
       "    </tr>\n",
       "    <tr>\n",
       "      <th>3</th>\n",
       "      <td>Shugo Standard</td>\n",
       "      <td>Fire</td>\n",
       "      <td>Power</td>\n",
       "      <td>Depleted Gain Fire Transmute  Shugo Tactic</td>\n",
       "    </tr>\n",
       "    <tr>\n",
       "      <th>5</th>\n",
       "      <td>Melt Down</td>\n",
       "      <td>Fire</td>\n",
       "      <td>Spell</td>\n",
       "      <td>Kill an  attachment</td>\n",
       "    </tr>\n",
       "    <tr>\n",
       "      <th>6</th>\n",
       "      <td>Trail Stories</td>\n",
       "      <td>Fire</td>\n",
       "      <td>Spell</td>\n",
       "      <td>Reduce the cost of a spell in your  by</td>\n",
       "    </tr>\n",
       "  </tbody>\n",
       "</table>\n",
       "</div>"
      ],
      "text/plain": [
       "               name faction   type  \\\n",
       "1  Granite Monument    Fire  Power   \n",
       "2  Granite Waystone    Fire  Power   \n",
       "3    Shugo Standard    Fire  Power   \n",
       "5         Melt Down    Fire  Spell   \n",
       "6     Trail Stories    Fire  Spell   \n",
       "\n",
       "                                                text  \n",
       "1  Depleted Gain Fire Transmute   Magmahound with...  \n",
       "2  Gain Fire then if you have FireFireFireFire cr...  \n",
       "3         Depleted Gain Fire Transmute  Shugo Tactic  \n",
       "5                                Kill an  attachment  \n",
       "6            Reduce the cost of a spell in your  by   "
      ]
     },
     "execution_count": 91,
     "metadata": {},
     "output_type": "execute_result"
    }
   ],
   "source": [
    "# Remove punctuation and special characters, including periods.\n",
    "\n",
    "all_cards['text'].str.lower()  #  Lowercase text\n",
    "all_cards['text'] = all_cards['text'].str.replace('[^\\w\\s]','')  #  Remove punctuation using regex\n",
    "all_cards['text'] = all_cards['text'].str.replace('\\d+','')  #  Remove numbers using regex\n",
    "all_cards['text'] = all_cards['text'].str.replace(r'enemy|unit(s?)|turn|damage|deal(s?)|player|play|gets|end|unless|depleted|hand|deck|(?<!dis)card','')\n",
    "\n",
    "#  Remove stopwords using list comprehension and pre-defined list of stopwords\n",
    "from nltk.corpus import stopwords\n",
    "stop = stopwords.words('english')\n",
    "all_cards['text'].apply(lambda x: [item for item in x if item not in stop])\n",
    "\n",
    "#  User below if we want to break each sentence up into a list of tokenized words... tfidf takes in text as input,\n",
    "#  let's leave the card text in tact for now.\n",
    "# from nltk.tokenize import word_tokenize\n",
    "# all_cards['text'] = all_cards['text'].apply(word_tokenize)\n",
    "all_cards.head()"
   ]
  },
  {
   "cell_type": "markdown",
   "metadata": {},
   "source": [
    "# KMeans Clustering"
   ]
  },
  {
   "cell_type": "code",
   "execution_count": 92,
   "metadata": {},
   "outputs": [],
   "source": [
    "from sklearn.feature_extraction.text import TfidfVectorizer\n",
    "from sklearn.cluster import KMeans\n",
    "from sklearn.metrics import adjusted_rand_score\n",
    "\n",
    "#  Convert text input into numerical array input.\n",
    "vectorizer = TfidfVectorizer(stop_words='english') # Probably don't need stop_words, already removed.\n",
    "#  Create and set our input vector. (1648 items)\n",
    "X = vectorizer.fit_transform(all_cards['text'])"
   ]
  },
  {
   "cell_type": "code",
   "execution_count": 93,
   "metadata": {},
   "outputs": [],
   "source": [
    "def cluster_away(X, true_k=2):\n",
    "    #  Cluster the documents \n",
    "    #true_k = 5 # try 5,10,15 (factions, dual faction combos, tri faction combos)\n",
    "\n",
    "    #  Initialize Kmeans clustering\n",
    "    model = KMeans(n_clusters=true_k, init='k-means++', max_iter=100, n_init=1)\n",
    "    #  Fit with inputs (tfidf input)\n",
    "    model = model.fit(X)\n",
    "    #  Predict the clusters (funny cuz nothing to predict...)\n",
    "    #labels = model.predict(X)\n",
    "    #  Get cluster centers\n",
    "    #C = model.cluster_centers_\n",
    "    \n",
    "    #  Success! Print top terms for each kth cluster.\n",
    "    print(\"Top terms per cluster:\")\n",
    "    order_centroids = model.cluster_centers_.argsort()[:, ::-1]\n",
    "    terms = vectorizer.get_feature_names()\n",
    "    for i in range(true_k):\n",
    "        print (\"Cluster %d:\" % i),\n",
    "        for ind in order_centroids[i, :10]:\n",
    "            print (' %s' % terms[ind]),\n",
    "        print"
   ]
  },
  {
   "cell_type": "code",
   "execution_count": 53,
   "metadata": {},
   "outputs": [
    {
     "name": "stdout",
     "output_type": "stream",
     "text": [
      "Top terms per cluster:\n",
      "Cluster 0:\n",
      " flying\n",
      " unit\n",
      " enemy\n",
      " summon\n",
      " draw\n",
      " play\n",
      " damage\n",
      " gain\n",
      " deck\n",
      " deal\n",
      "Cluster 1:\n",
      " units\n",
      " turn\n",
      " overwhelm\n",
      " unit\n",
      " attack\n",
      " pay\n",
      " enemy\n",
      " play\n",
      " summon\n",
      " health\n"
     ]
    }
   ],
   "source": [
    "cluster_away(X, 2)"
   ]
  },
  {
   "cell_type": "markdown",
   "metadata": {},
   "source": [
    "##### Based on the above, we may want to remove the words 'enemy, unit(s), turn, damage, deal(s), player, play', and maybe 'gain'. They are not very informative words, and they are most common/what unifies our main centroids"
   ]
  },
  {
   "cell_type": "code",
   "execution_count": 44,
   "metadata": {
    "scrolled": true
   },
   "outputs": [
    {
     "name": "stdout",
     "output_type": "stream",
     "text": [
      "Top terms per cluster:\n",
      "Cluster 0:\n",
      " damage\n",
      " deal\n",
      " enemy\n",
      " player\n",
      " unit\n",
      " summon\n",
      " double\n",
      " deals\n",
      " turn\n",
      " lifesteal\n",
      "Cluster 1:\n",
      " unit\n",
      " enemy\n",
      " kill\n",
      " turn\n",
      " summon\n",
      " silence\n",
      " void\n",
      " stun\n",
      " hand\n",
      " flying\n",
      "Cluster 2:\n",
      " draw\n",
      " card\n",
      " deck\n",
      " cards\n",
      " create\n",
      " discard\n",
      " summon\n",
      " choice\n",
      " sigil\n",
      " enemy\n",
      "Cluster 3:\n",
      " units\n",
      " turn\n",
      " attack\n",
      " summon\n",
      " enemy\n",
      " inspire\n",
      " pay\n",
      " draw\n",
      " health\n",
      " play\n",
      "Cluster 4:\n",
      " flying\n",
      " play\n",
      " gain\n",
      " overwhelm\n",
      " turn\n",
      " summon\n",
      " warcry\n",
      " lifesteal\n",
      " endurance\n",
      " aegis\n"
     ]
    }
   ],
   "source": [
    "# Now try clustering on 2-4 centroids....\n",
    "#cluster_away(X, 3) # Remove: hand, card, deck, and MAYBE attack\n",
    "#cluster_away(X, 4) # Remove: unless, depleted(?)\n",
    "#cluster_away(X, 5) # Now terms are more ambiguous as to whether or not we should keep them..."
   ]
  },
  {
   "cell_type": "code",
   "execution_count": 45,
   "metadata": {},
   "outputs": [
    {
     "name": "stdout",
     "output_type": "stream",
     "text": [
      "Top terms per cluster:\n",
      "Cluster 0:\n",
      " units\n",
      " turn\n",
      " overwhelm\n",
      " attack\n",
      " warcry\n",
      " lifesteal\n",
      " endurance\n",
      " killer\n",
      " summon\n",
      " aegis\n",
      "Cluster 1:\n",
      " deadly\n",
      " summon\n",
      " units\n",
      " nightfall\n",
      " flying\n",
      " quickdraw\n",
      " infiltrate\n",
      " enemy\n",
      " warcry\n",
      " viper\n",
      "Cluster 2:\n",
      " enemy\n",
      " unit\n",
      " kill\n",
      " summon\n",
      " hand\n",
      " units\n",
      " stun\n",
      " silence\n",
      " deck\n",
      " player\n",
      "Cluster 3:\n",
      " flying\n",
      " lifesteal\n",
      " summon\n",
      " aegis\n",
      " unit\n",
      " endurance\n",
      " turn\n",
      " valkyrie\n",
      " units\n",
      " tribute\n",
      "Cluster 4:\n",
      " draw\n",
      " card\n",
      " deck\n",
      " create\n",
      " discard\n",
      " cards\n",
      " summon\n",
      " sigil\n",
      " choice\n",
      " pay\n",
      "Cluster 5:\n",
      " damage\n",
      " deal\n",
      " enemy\n",
      " player\n",
      " unit\n",
      " summon\n",
      " double\n",
      " deals\n",
      " turn\n",
      " lifesteal\n",
      "Cluster 6:\n",
      " charge\n",
      " strangers\n",
      " turn\n",
      " end\n",
      " flying\n",
      " play\n",
      " attack\n",
      " quickdraw\n",
      " warcry\n",
      " lifesteal\n",
      "Cluster 7:\n",
      " gain\n",
      " health\n",
      " depleted\n",
      " armor\n",
      " unless\n",
      " summon\n",
      " sigil\n",
      " scout\n",
      " transmute\n",
      " draw\n",
      "Cluster 8:\n",
      " unit\n",
      " turn\n",
      " void\n",
      " cursed\n",
      " kill\n",
      " transform\n",
      " attack\n",
      " enemy\n",
      " gets\n",
      " health\n",
      "Cluster 9:\n",
      " play\n",
      " weapon\n",
      " deck\n",
      " turn\n",
      " gets\n",
      " spell\n",
      " spellcraft\n",
      " unit\n",
      " summon\n",
      " units\n"
     ]
    }
   ],
   "source": [
    "cluster_away(X, 10) # Remove: gets, end"
   ]
  },
  {
   "cell_type": "markdown",
   "metadata": {},
   "source": [
    "# Deeper analysis"
   ]
  },
  {
   "cell_type": "code",
   "execution_count": 66,
   "metadata": {},
   "outputs": [
    {
     "name": "stdout",
     "output_type": "stream",
     "text": [
      "Top terms per cluster:\n",
      "Cluster 0:\n",
      " attack\n",
      " kill\n",
      " attachment\n",
      " flying\n",
      " summon\n",
      " health\n",
      " quickdraw\n",
      " overwhelm\n",
      " pay\n",
      " draw\n",
      "Cluster 1:\n",
      " flying\n",
      " summon\n",
      " draw\n",
      " gain\n",
      " deal\n",
      " overwhelm\n",
      " play\n",
      " pay\n",
      " health\n",
      " lifesteal\n"
     ]
    }
   ],
   "source": [
    "# Now were going to use our custom regex to reduce the 'common' words in our centroids, hopefully making more distinct cases.\n",
    "# This will be put in with the regex replacing at the top.\n",
    "\n",
    "# Will test on k=2 for all cards, but shifting towards analyzing dual-faction combos.\n",
    "\n",
    "# custom_removal = re.compile(r'enemy|unit(s?)|turn|damage|deal(s?)|player|play|gets|end|unless|depleted|hand|card|deck', re.IGNORECASE)\n",
    "X = vectorizer.fit_transform(all_cards['text']) # Reset X\n",
    "cluster_away(2) # Now it's looking cleaner. Maybe remove pay|play.....dis? (lol it's because we remove 'card', therefore discard->dis; fixed)\n",
    "\n",
    "\n",
    "# It's worth noting that everytime the cluster is made the top terms are different, therefore 2 centroids doesn't inform us well.\n",
    "# Let's try clustering on different classes (Rakano, Skycrag, etc)"
   ]
  },
  {
   "cell_type": "markdown",
   "metadata": {},
   "source": [
    "## Praxis (Fire + Time)"
   ]
  },
  {
   "cell_type": "code",
   "execution_count": 94,
   "metadata": {},
   "outputs": [
    {
     "data": {
      "text/plain": [
       "528"
      ]
     },
     "execution_count": 94,
     "metadata": {},
     "output_type": "execute_result"
    }
   ],
   "source": [
    "# Used excel to see we have 550/1721 cards that are fire + time | multi - Praxis. Note this DOES include 'NONE' text cards.\n",
    "praxis = all_cards[(all_cards['faction'] == 'Multi  - Praxis')|(all_cards['faction'] == 'Fire')|(all_cards['faction'] == 'Time')].copy()\n",
    "len(praxis) # 528/550, 22 ARE 'NONE' text, this makes sense! :)"
   ]
  },
  {
   "cell_type": "code",
   "execution_count": 95,
   "metadata": {
    "scrolled": false
   },
   "outputs": [
    {
     "name": "stdout",
     "output_type": "stream",
     "text": [
      "Top terms per cluster:\n",
      "Cluster 0:\n",
      " summon\n",
      " overwhelm\n",
      " draw\n",
      " charge\n",
      " health\n",
      " flying\n",
      " gain\n",
      " power\n",
      " warp\n",
      " deal\n",
      "Cluster 1:\n",
      " grenadin\n",
      " play\n",
      " entomb\n",
      " summon\n",
      " create\n",
      " attack\n",
      " void\n",
      " spark\n",
      " draw\n",
      " firefirefirefire\n"
     ]
    }
   ],
   "source": [
    "X = vectorizer.fit_transform(praxis['text']) # Change X input into the praxis-only.\n",
    "cluster_away(X, 2)"
   ]
  },
  {
   "cell_type": "code",
   "execution_count": null,
   "metadata": {},
   "outputs": [],
   "source": [
    "#  TODO: Do Clustering k=2-10, on JUST units."
   ]
  },
  {
   "cell_type": "markdown",
   "metadata": {},
   "source": [
    "## Combrei (Time + Justice)"
   ]
  },
  {
   "cell_type": "code",
   "execution_count": 96,
   "metadata": {},
   "outputs": [
    {
     "data": {
      "text/plain": [
       "527"
      ]
     },
     "execution_count": 96,
     "metadata": {},
     "output_type": "execute_result"
    }
   ],
   "source": [
    "# Used excel to see we have 554/1721 cards that are fire + time | multi - Rakano. Note this DOES include 'NONE' text cards.\n",
    "combrei = all_cards[(all_cards['faction'] == 'Multi  - Combrei')|(all_cards['faction'] == 'Time')|(all_cards['faction'] == 'Justice')].copy()\n",
    "len(combrei) # 527/551, 24 ARE 'NONE' text, this makes sense! :)"
   ]
  },
  {
   "cell_type": "code",
   "execution_count": 97,
   "metadata": {},
   "outputs": [
    {
     "name": "stdout",
     "output_type": "stream",
     "text": [
      "Top terms per cluster:\n",
      "Cluster 0:\n",
      " flying\n",
      " summon\n",
      " gain\n",
      " draw\n",
      " health\n",
      " endurance\n",
      " attack\n",
      " play\n",
      " pay\n",
      " power\n",
      "Cluster 1:\n",
      " aegis\n",
      " overwhelm\n",
      " gain\n",
      " weapon\n",
      " empower\n",
      " endurance\n",
      " bond\n",
      " tribute\n",
      " warp\n",
      " dinosaur\n"
     ]
    }
   ],
   "source": [
    "X = vectorizer.fit_transform(combrei['text']) # Change X input into the praxis-only.\n",
    "cluster_away(X, 2)\n",
    "#  TODO: Do Clustering k=2-10, on JUST units."
   ]
  },
  {
   "cell_type": "markdown",
   "metadata": {},
   "source": [
    "## Rakano (Fire + Justice)"
   ]
  },
  {
   "cell_type": "code",
   "execution_count": 98,
   "metadata": {},
   "outputs": [
    {
     "data": {
      "text/plain": [
       "525"
      ]
     },
     "execution_count": 98,
     "metadata": {},
     "output_type": "execute_result"
    }
   ],
   "source": [
    "# Used excel to see we have 554/1721 cards that are fire + time | multi - Rakano. Note this DOES include 'NONE' text cards.\n",
    "rakano = all_cards[(all_cards['faction'] == 'Multi  - Rakano')|(all_cards['faction'] == 'Fire')|(all_cards['faction'] == 'Justice')].copy()\n",
    "len(rakano) # 525/554, 29 ARE 'NONE' text, this makes sense! :)"
   ]
  },
  {
   "cell_type": "code",
   "execution_count": 106,
   "metadata": {
    "scrolled": false
   },
   "outputs": [
    {
     "name": "stdout",
     "output_type": "stream",
     "text": [
      "Top terms per cluster:\n",
      "Cluster 0:\n",
      " summon\n",
      " flying\n",
      " warcry\n",
      " weapon\n",
      " draw\n",
      " charge\n",
      " deal\n",
      " overwhelm\n",
      " play\n",
      " gain\n",
      "Cluster 1:\n",
      " attack\n",
      " summon\n",
      " flying\n",
      " pay\n",
      " weapon\n",
      " quickdraw\n",
      " armor\n",
      " health\n",
      " cursed\n",
      " exactly\n"
     ]
    }
   ],
   "source": [
    "X = vectorizer.fit_transform(rakano['text']) # Change X input into the praxis-only.\n",
    "cluster_away(X, 2) # Each centroid is around the other centroid; a lot of terms overlap.\n",
    "#  TODO: Do Clustering k=2-10, on JUST units."
   ]
  },
  {
   "cell_type": "code",
   "execution_count": 107,
   "metadata": {
    "scrolled": false
   },
   "outputs": [
    {
     "name": "stdout",
     "output_type": "stream",
     "text": [
      "Top terms per cluster:\n",
      "Cluster 0:\n",
      " attack\n",
      " summon\n",
      " weapon\n",
      " draw\n",
      " charge\n",
      " overwhelm\n",
      " play\n",
      " pay\n",
      " gain\n",
      " endurance\n",
      "Cluster 1:\n",
      " deal\n",
      " summon\n",
      " overwhelm\n",
      " entomb\n",
      " equal\n",
      " weapon\n",
      " night\n",
      " destiny\n",
      " scout\n",
      " void\n",
      "Cluster 2:\n",
      " flying\n",
      " warcry\n",
      " summon\n",
      " valkyrie\n",
      " lifesteal\n",
      " gain\n",
      " armor\n",
      " aegis\n",
      " endurance\n",
      " attack\n",
      "___________________NEXT K AMOUNT_____________________\n",
      "Top terms per cluster:\n",
      "Cluster 0:\n",
      " attack\n",
      " warcry\n",
      " charge\n",
      " overwhelm\n",
      " endurance\n",
      " double\n",
      " quickdraw\n",
      " lifesteal\n",
      " deal\n",
      " kill\n",
      "Cluster 1:\n",
      " summon\n",
      " deal\n",
      " silence\n",
      " flying\n",
      " choose\n",
      " cost\n",
      " attack\n",
      " draw\n",
      " revenge\n",
      " stun\n",
      "Cluster 2:\n",
      " flying\n",
      " gain\n",
      " armor\n",
      " warcry\n",
      " valkyrie\n",
      " aegis\n",
      " depleted\n",
      " lifesteal\n",
      " endurance\n",
      " summon\n",
      "Cluster 3:\n",
      " weapon\n",
      " draw\n",
      " play\n",
      " create\n",
      " entomb\n",
      " void\n",
      " tribute\n",
      " power\n",
      " grenadin\n",
      " spell\n",
      "Cluster 4:\n",
      " pay\n",
      " ultimate\n",
      " exhaust\n",
      " grenadin\n",
      " attack\n",
      " sacrifice\n",
      " draw\n",
      " valkyrie\n",
      " weapon\n",
      " flying\n",
      "Top terms per cluster:\n",
      "Cluster 0:\n",
      " scout\n",
      " spell\n",
      " kill\n",
      " void\n",
      " cost\n",
      " equal\n",
      " weapon\n",
      " strength\n",
      " skills\n",
      " battle\n",
      "Cluster 1:\n",
      " flying\n",
      " lifesteal\n",
      " summon\n",
      " valkyrie\n",
      " warcry\n",
      " armor\n",
      " gain\n",
      " attack\n",
      " aegis\n",
      " endurance\n",
      "Cluster 2:\n",
      " draw\n",
      " summon\n",
      " create\n",
      " weapon\n",
      " sigil\n",
      " cost\n",
      " silence\n",
      " entomb\n",
      " choice\n",
      " armor\n",
      "Cluster 3:\n",
      " overwhelm\n",
      " endurance\n",
      " deal\n",
      " relic\n",
      " aegis\n",
      " lifesteal\n",
      " attack\n",
      " charge\n",
      " play\n",
      " summon\n",
      "Cluster 4:\n",
      " pay\n",
      " lifesteal\n",
      " ultimate\n",
      " exhaust\n",
      " weapon\n",
      " power\n",
      " grenadin\n",
      " sacrifice\n",
      " copperhall\n",
      " additional\n",
      "Cluster 5:\n",
      " double\n",
      " damage\n",
      " health\n",
      " attack\n",
      " attacks\n",
      " gunslinger\n",
      " empower\n",
      " invulnerable\n",
      " deals\n",
      " wielding\n",
      "Cluster 6:\n",
      " warcry\n",
      " charge\n",
      " play\n",
      " gain\n",
      " aegis\n",
      " quickdraw\n",
      " weapon\n",
      " warp\n",
      " armor\n",
      " exhaust\n",
      "Cluster 7:\n",
      " attack\n",
      " deal\n",
      " summon\n",
      " quickdraw\n",
      " weapon\n",
      " equal\n",
      " cursed\n",
      " exactly\n",
      " entomb\n",
      " enemy\n",
      "Top terms per cluster:\n",
      "Cluster 0:\n",
      " kill\n",
      " lifesteal\n",
      " battle\n",
      " attachment\n",
      " stun\n",
      " skills\n",
      " void\n",
      " spell\n",
      " attack\n",
      " endurance\n",
      "Cluster 1:\n",
      " attack\n",
      " double\n",
      " pay\n",
      " deal\n",
      " aegis\n",
      " exhaust\n",
      " damage\n",
      " play\n",
      " quickdraw\n",
      " power\n",
      "Cluster 2:\n",
      " weapon\n",
      " draw\n",
      " create\n",
      " wielding\n",
      " cost\n",
      " choice\n",
      " summon\n",
      " entomb\n",
      " tribute\n",
      " pay\n",
      "Cluster 3:\n",
      " summon\n",
      " armor\n",
      " gain\n",
      " deal\n",
      " silence\n",
      " stun\n",
      " attack\n",
      " flying\n",
      " draw\n",
      " revenge\n",
      "Cluster 4:\n",
      " grenadin\n",
      " play\n",
      " entomb\n",
      " void\n",
      " summon\n",
      " create\n",
      " pay\n",
      " attack\n",
      " infernus\n",
      " power\n",
      "Cluster 5:\n",
      " overwhelm\n",
      " deal\n",
      " pay\n",
      " summon\n",
      " ultimate\n",
      " attack\n",
      " sacrifice\n",
      " relic\n",
      " quickdraw\n",
      " bond\n",
      "Cluster 6:\n",
      " flying\n",
      " valkyrie\n",
      " summon\n",
      " lifesteal\n",
      " attack\n",
      " revenge\n",
      " endurance\n",
      " aegis\n",
      " warp\n",
      " tribute\n",
      "Cluster 7:\n",
      " charge\n",
      " endurance\n",
      " play\n",
      " strangers\n",
      " wildcat\n",
      " aegis\n",
      " reckless\n",
      " summon\n",
      " random\n",
      " hellhound\n",
      "Cluster 8:\n",
      " justice\n",
      " sigil\n",
      " depleted\n",
      " draw\n",
      " gain\n",
      " firejustice\n",
      " transmute\n",
      " scout\n",
      " tactic\n",
      " summon\n",
      "Cluster 9:\n",
      " warcry\n",
      " summon\n",
      " flying\n",
      " gain\n",
      " ally\n",
      " valkyrie\n",
      " strangers\n",
      " pledgeempower\n",
      " reckless\n",
      " quickdraw\n"
     ]
    }
   ],
   "source": [
    "# Rakano k-centroid = 3\n",
    "cluster_away(X, 3)\n",
    "print('___________________NEXT K AMOUNT_____________________')\n",
    "# Rakano k-centroid = 5\n",
    "cluster_away(X, 5)\n",
    "\n",
    "# Rakano k-centroid = 8\n",
    "cluster_away(X, 8)\n",
    "\n",
    "# Rakano k-centroid = 10\n",
    "cluster_away(X, 10)"
   ]
  },
  {
   "cell_type": "markdown",
   "metadata": {},
   "source": [
    "## ______________________"
   ]
  },
  {
   "cell_type": "markdown",
   "metadata": {},
   "source": [
    "## TEST REALM IS BELOW EW DONT TOUCH ME"
   ]
  },
  {
   "cell_type": "markdown",
   "metadata": {},
   "source": [
    "## ____________________________________________"
   ]
  },
  {
   "cell_type": "code",
   "execution_count": null,
   "metadata": {},
   "outputs": [],
   "source": [
    "#Plotting\n",
    "fig = plt.figure(1, figsize=(7,7))\n",
    "ax = Axes3D(fig, rect=[0, 0, 0.95, 1], elev=48, azim=134)\n",
    "ax.scatter(X[:, 3], X[:, 0], X[:, 2],\n",
    "          c=labels.astype(np.float), edgecolor=\"k\", s=50)\n",
    "ax.set_xlabel(\"Petal width\")\n",
    "ax.set_ylabel(\"Sepal length\")\n",
    "ax.set_zlabel(\"Petal length\")\n",
    "plt.title(\"K Means\", fontsize=14)"
   ]
  },
  {
   "cell_type": "code",
   "execution_count": 31,
   "metadata": {},
   "outputs": [
    {
     "data": {
      "text/plain": [
       "<mpl_toolkits.mplot3d.art3d.Path3DCollection at 0x26da689ecf8>"
      ]
     },
     "execution_count": 31,
     "metadata": {},
     "output_type": "execute_result"
    },
    {
     "data": {
      "image/png": "[encoded data removed]",
      "text/plain": [
       "<Figure size 1152x648 with 1 Axes>"
      ]
     },
     "metadata": {},
     "output_type": "display_data"
    }
   ],
   "source": [
    "import numpy as np\n",
    "import matplotlib.pyplot as plt\n",
    "from mpl_toolkits.mplot3d import Axes3D\n",
    "from sklearn.cluster import KMeans\n",
    "from sklearn.datasets import make_blobs\n",
    "\n",
    "plt.rcParams['figure.figsize'] = (16, 9)\n",
    "\n",
    "fig = plt.figure()\n",
    "ax = Axes3D(fig)\n",
    "#ax.scatter(X[:, 0], X[:, 1], X[:, 2])\n",
    "ax.scatter(C[:, 0], C[:, 1], C[:, 2], marker='*', c='#050505', s=1000)"
   ]
  },
  {
   "cell_type": "code",
   "execution_count": null,
   "metadata": {},
   "outputs": [],
   "source": [
    "# Graph it!\n",
    "y_kmeans = model.predict(X)\n",
    "plt.scatter(X[:, 0], X[:, 1], c=y_kmeans, s=50, cmap='viridis')\n",
    "\n",
    "centers = model.cluster_centers_\n",
    "plt.scatter(centers[:, 0], centers[:, 1], c='black', s=200, alpha=0.5);"
   ]
  },
  {
   "cell_type": "code",
   "execution_count": null,
   "metadata": {},
   "outputs": [],
   "source": [
    "# Cluster on the faction combinations & graph\n",
    "# Cluster all of them generally and graph for k=1-10\n"
   ]
  }
 ],
 "metadata": {
  "kernelspec": {
   "display_name": "Python 3",
   "language": "python",
   "name": "python3"
  },
  "language_info": {
   "codemirror_mode": {
    "name": "ipython",
    "version": 3
   },
   "file_extension": ".py",
   "mimetype": "text/x-python",
   "name": "python",
   "nbconvert_exporter": "python",
   "pygments_lexer": "ipython3",
   "version": "3.6.5"
  }
 },
 "nbformat": 4,
 "nbformat_minor": 2
}
