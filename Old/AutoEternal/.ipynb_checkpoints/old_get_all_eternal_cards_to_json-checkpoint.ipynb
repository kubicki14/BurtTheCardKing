{
 "cells": [
  {
   "cell_type": "code",
   "execution_count": null,
   "metadata": {},
   "outputs": [],
   "source": [
    "import pandas as pd\n",
    "import re\n",
    "import requests\n",
    "from bs4 import BeautifulSoup\n",
    "import json\n",
    "import warnings\n",
    "warnings.filterwarnings(action='once')\n",
    "\n",
    "'''\n",
    "Example format for extraction:\n",
    "Count | Card Name | (Set# Card#)\n",
    "\n",
    "2 Trail Stories (Set1 #188)\n",
    "4 Horus Traver (Set1002 #23)\n",
    "4 Longbarrel (Set4 #5)\n",
    "4 On the Hunt (Set2 #5)\n",
    "4 Oni Dragonsmith (Set1003 #2)\n",
    "'''"
   ]
  },
  {
   "cell_type": "markdown",
   "metadata": {},
   "source": [
    "# First step: Login and extract collection fully from eternal warcry."
   ]
  },
  {
   "cell_type": "markdown",
   "metadata": {},
   "source": [
    "## Note: Remove user/pass lane later!"
   ]
  },
  {
   "cell_type": "code",
   "execution_count": 7,
   "metadata": {
    "scrolled": false
   },
   "outputs": [
    {
     "name": "stdout",
     "output_type": "stream",
     "text": [
      "Eternal Warcry | Eternal Card Game Decks and Card Browser\n",
      "BEGIN\n",
      "END\n"
     ]
    }
   ],
   "source": [
    "\"\"\"\n",
    "For those paying attention mechanize is python 2.x only, someone made mechanicalsoup\n",
    "(Love you), which if you read the tutorial we give you a brief intro along with show you how\n",
    "to login. This is compatible /w python 3.6. The code below takes in two command\n",
    "line parameterse delimited by a space; username password.\n",
    "\n",
    "ie: aggregate_card_json.py <username> <password>\n",
    "\n",
    "For now I have my u+p information manually punched in and works!\n",
    "\"\"\"\n",
    "\n",
    "# import argparse\n",
    "# parser = argparse.ArgumentParser(description=\"Login to EternalWarcry.\")\n",
    "# parser.add_argument(\"username\")\n",
    "# parser.add_argument(\"password\")\n",
    "# args = parser.parse_args()\n",
    "\n",
    "# Account info for Eternal Warcry site\n",
    "user = '<user>'\n",
    "passwd = '<pass>'\n",
    "\n",
    "import mechanicalsoup\n",
    "\n",
    "browser = mechanicalsoup.Browser(soup_config={'features': 'lxml'})\n",
    "\n",
    "# request eternalWarcry login page. the result is a requests.Response object\n",
    "# login_page.soup is a BeautifulSoup object\n",
    "login_page = browser.get(\"https://eternalwarcry.com/login\")\n",
    "\n",
    "# we grab the login form\n",
    "login_form = mechanicalsoup.Form(login_page.soup.select_one('form[action=\"/login\"]'))\n",
    "\n",
    "# specify username and password\n",
    "login_form.input({\"LoginEmail\": user, \"LoginPassword\": passwd})# REPLACE WITH args.username & args.password\n",
    "\n",
    "# submit form\n",
    "page2 = browser.submit(login_form, login_page.url)\n",
    "\n",
    "\"\"\"\n",
    "STEP TWO: ITERATE THROUGH EACH PAGE AND GRAB ALL OF THE INFORMATION FOR EACH CARD,\n",
    "PUT IT INTO A STRING IN THE PRETTY FORMAT THAT ETERNAL FOLLOWS, AND APPEND INTO A BIG LIST\n",
    "OUTPUT WHICH IS YOUR COLLECTION FROM ETERNALWARCRY\n",
    "(All this really does is save you time by not having to go into ->\"Deck Builder\" and\n",
    "add ALL your cards to a deck and exporting it.... :))\n",
    "\"\"\"\n",
    "page_num = 1\n",
    "final_collection = []\n",
    "\n",
    "while True:\n",
    "    # Now that were logged in pull each link for our collection and grab the info\n",
    "    current_page = 'https://eternalwarcry.com/cards?p=' + str(page_num)\n",
    "    page_num = page_num + 1 # Iterate don't wanna forget ;)\n",
    "    collection_page = browser.get(current_page) # Response object with .soup object\n",
    "    \n",
    "    # Current Page. #collection_page.text because its response object\n",
    "    html_page = collection_page.soup \n",
    "    # Get all cards on this page.\n",
    "    divs = html_page.findAll(class_= 'card-search-item col-lg-3 col-sm-4 col-xs-6 add-card-main element-relative')  \n",
    "    \n",
    "    # Get out of while loop when on last page.\n",
    "    if not divs:\n",
    "        # This means were on the last page of cards, (56 at this time) and there are no card objects. Finish.\n",
    "        break\n",
    "            \n",
    "    for div in divs:\n",
    "        card_details = str(div.find_all('a')) # Main card object\n",
    "        # Now get card name with grammar\n",
    "        name = str(re.search(r'<img alt=\"(.+)\" class=', card_details, re.IGNORECASE).group(1))\n",
    "        end_of_url = str(div.find('a').get('href'))\n",
    "        full_card_url = 'https://eternalwarcry.com' + end_of_url\n",
    "\n",
    "        # Put it altogether....\n",
    "        item = [name, full_card_url]\n",
    "\n",
    "        # Drop each page into a list for later...\n",
    "        final_collection.append(item)"
   ]
  },
  {
   "cell_type": "code",
   "execution_count": 9,
   "metadata": {},
   "outputs": [
    {
     "data": {
      "text/plain": [
       "1754"
      ]
     },
     "execution_count": 9,
     "metadata": {},
     "output_type": "execute_result"
    }
   ],
   "source": [
    "len(final_collection) # At this time there are 1754 cards. Success!"
   ]
  },
  {
   "cell_type": "code",
   "execution_count": 10,
   "metadata": {},
   "outputs": [],
   "source": [
    "total_cards = len(final_collection)\n",
    "output_json = {'total_cards': total_cards, 'all_cards': final_collection} \n",
    "# all_cards = A list containing lists, where each has card name and url"
   ]
  },
  {
   "cell_type": "code",
   "execution_count": 11,
   "metadata": {},
   "outputs": [],
   "source": [
    "# Cool! WE got an accurate record of our cards, minus the Commons and UnCommons. Success for tonight.\n",
    "# Output to a JSON file because sexy\n",
    "with open('all_cards.json', 'w') as fp:\n",
    "    json.dump(output_json, fp)"
   ]
  },
  {
   "cell_type": "code",
   "execution_count": null,
   "metadata": {},
   "outputs": [],
   "source": []
  }
 ],
 "metadata": {
  "kernelspec": {
   "display_name": "Python 3",
   "language": "python",
   "name": "python3"
  },
  "language_info": {
   "codemirror_mode": {
    "name": "ipython",
    "version": 3
   },
   "file_extension": ".py",
   "mimetype": "text/x-python",
   "name": "python",
   "nbconvert_exporter": "python",
   "pygments_lexer": "ipython3",
   "version": "3.7.6"
  }
 },
 "nbformat": 4,
 "nbformat_minor": 2
}
