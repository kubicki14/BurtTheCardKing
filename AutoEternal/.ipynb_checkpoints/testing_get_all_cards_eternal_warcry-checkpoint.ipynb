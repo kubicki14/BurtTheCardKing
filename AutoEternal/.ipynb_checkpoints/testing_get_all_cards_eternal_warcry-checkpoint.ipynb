{
 "cells": [
  {
   "cell_type": "code",
   "execution_count": 1,
   "metadata": {},
   "outputs": [
    {
     "data": {
      "text/plain": [
       "'\\nExample format for extraction:\\nCount | Card Name | (Set# Card#)\\n\\n2 Trail Stories (Set1 #188)\\n4 Horus Traver (Set1002 #23)\\n4 Longbarrel (Set4 #5)\\n4 On the Hunt (Set2 #5)\\n4 Oni Dragonsmith (Set1003 #2)\\n'"
      ]
     },
     "execution_count": 1,
     "metadata": {},
     "output_type": "execute_result"
    }
   ],
   "source": [
    "import pandas as pd\n",
    "import re\n",
    "import requests\n",
    "from bs4 import BeautifulSoup\n",
    "import json\n",
    "import warnings\n",
    "warnings.filterwarnings(action='once')\n",
    "\n",
    "'''\n",
    "Example format for extraction:\n",
    "Count | Card Name | (Set# Card#)\n",
    "\n",
    "2 Trail Stories (Set1 #188)\n",
    "4 Horus Traver (Set1002 #23)\n",
    "4 Longbarrel (Set4 #5)\n",
    "4 On the Hunt (Set2 #5)\n",
    "4 Oni Dragonsmith (Set1003 #2)\n",
    "'''"
   ]
  },
  {
   "cell_type": "markdown",
   "metadata": {},
   "source": [
    "# First step: Login and extract collection fully from eternal warcry."
   ]
  },
  {
   "cell_type": "markdown",
   "metadata": {},
   "source": [
    "## Note: Remove user/pass lane later!"
   ]
  },
  {
   "cell_type": "code",
   "execution_count": 113,
   "metadata": {
    "scrolled": false
   },
   "outputs": [
    {
     "name": "stderr",
     "output_type": "stream",
     "text": [
      "2018-11-27 23:16:19,416 DEBUG Starting new HTTPS connection (1): eternalwarcry.com\n",
      "2018-11-27 23:16:19,416 DEBUG Starting new HTTPS connection (1): eternalwarcry.com\n",
      "2018-11-27 23:16:19,416 DEBUG Starting new HTTPS connection (1): eternalwarcry.com\n",
      "2018-11-27 23:16:19,571 DEBUG https://eternalwarcry.com:443 \"GET /login HTTP/1.1\" 200 None\n",
      "2018-11-27 23:16:19,571 DEBUG https://eternalwarcry.com:443 \"GET /login HTTP/1.1\" 200 None\n",
      "2018-11-27 23:16:19,571 DEBUG https://eternalwarcry.com:443 \"GET /login HTTP/1.1\" 200 None\n",
      "C:\\Users\\user\\Anaconda3\\lib\\site-packages\\bs4\\builder\\_lxml.py:250: DeprecationWarning: inspect.getargspec() is deprecated, use inspect.signature() or inspect.getfullargspec()\n",
      "  self.parser.feed(markup)\n",
      "2018-11-27 23:16:19,922 DEBUG https://eternalwarcry.com:443 \"POST /login HTTP/1.1\" 302 None\n",
      "2018-11-27 23:16:19,922 DEBUG https://eternalwarcry.com:443 \"POST /login HTTP/1.1\" 302 None\n",
      "2018-11-27 23:16:19,922 DEBUG https://eternalwarcry.com:443 \"POST /login HTTP/1.1\" 302 None\n",
      "2018-11-27 23:16:20,052 DEBUG https://eternalwarcry.com:443 \"GET / HTTP/1.1\" 200 None\n",
      "2018-11-27 23:16:20,052 DEBUG https://eternalwarcry.com:443 \"GET / HTTP/1.1\" 200 None\n",
      "2018-11-27 23:16:20,052 DEBUG https://eternalwarcry.com:443 \"GET / HTTP/1.1\" 200 None\n"
     ]
    },
    {
     "name": "stdout",
     "output_type": "stream",
     "text": [
      "Eternal Warcry | Eternal Card Game Decks and Card Browser\n"
     ]
    },
    {
     "name": "stderr",
     "output_type": "stream",
     "text": [
      "2018-11-27 23:16:20,462 DEBUG https://eternalwarcry.com:443 \"GET /collection?view=oo&p=1 HTTP/1.1\" 200 None\n",
      "2018-11-27 23:16:20,462 DEBUG https://eternalwarcry.com:443 \"GET /collection?view=oo&p=1 HTTP/1.1\" 200 None\n",
      "2018-11-27 23:16:20,462 DEBUG https://eternalwarcry.com:443 \"GET /collection?view=oo&p=1 HTTP/1.1\" 200 None\n",
      "2018-11-27 23:16:20,841 DEBUG https://eternalwarcry.com:443 \"GET /collection?view=oo&p=2 HTTP/1.1\" 200 None\n",
      "2018-11-27 23:16:20,841 DEBUG https://eternalwarcry.com:443 \"GET /collection?view=oo&p=2 HTTP/1.1\" 200 None\n",
      "2018-11-27 23:16:20,841 DEBUG https://eternalwarcry.com:443 \"GET /collection?view=oo&p=2 HTTP/1.1\" 200 None\n",
      "2018-11-27 23:16:21,112 DEBUG https://eternalwarcry.com:443 \"GET /collection?view=oo&p=3 HTTP/1.1\" 200 None\n",
      "2018-11-27 23:16:21,112 DEBUG https://eternalwarcry.com:443 \"GET /collection?view=oo&p=3 HTTP/1.1\" 200 None\n",
      "2018-11-27 23:16:21,112 DEBUG https://eternalwarcry.com:443 \"GET /collection?view=oo&p=3 HTTP/1.1\" 200 None\n",
      "2018-11-27 23:16:21,317 DEBUG https://eternalwarcry.com:443 \"GET /collection?view=oo&p=4 HTTP/1.1\" 200 None\n",
      "2018-11-27 23:16:21,317 DEBUG https://eternalwarcry.com:443 \"GET /collection?view=oo&p=4 HTTP/1.1\" 200 None\n",
      "2018-11-27 23:16:21,317 DEBUG https://eternalwarcry.com:443 \"GET /collection?view=oo&p=4 HTTP/1.1\" 200 None\n",
      "2018-11-27 23:16:21,511 DEBUG https://eternalwarcry.com:443 \"GET /collection?view=oo&p=5 HTTP/1.1\" 200 None\n",
      "2018-11-27 23:16:21,511 DEBUG https://eternalwarcry.com:443 \"GET /collection?view=oo&p=5 HTTP/1.1\" 200 None\n",
      "2018-11-27 23:16:21,511 DEBUG https://eternalwarcry.com:443 \"GET /collection?view=oo&p=5 HTTP/1.1\" 200 None\n",
      "2018-11-27 23:16:21,841 DEBUG https://eternalwarcry.com:443 \"GET /collection?view=oo&p=6 HTTP/1.1\" 200 None\n",
      "2018-11-27 23:16:21,841 DEBUG https://eternalwarcry.com:443 \"GET /collection?view=oo&p=6 HTTP/1.1\" 200 None\n",
      "2018-11-27 23:16:21,841 DEBUG https://eternalwarcry.com:443 \"GET /collection?view=oo&p=6 HTTP/1.1\" 200 None\n",
      "2018-11-27 23:16:21,991 DEBUG https://eternalwarcry.com:443 \"GET /collection?view=oo&p=7 HTTP/1.1\" 200 None\n",
      "2018-11-27 23:16:21,991 DEBUG https://eternalwarcry.com:443 \"GET /collection?view=oo&p=7 HTTP/1.1\" 200 None\n",
      "2018-11-27 23:16:21,991 DEBUG https://eternalwarcry.com:443 \"GET /collection?view=oo&p=7 HTTP/1.1\" 200 None\n",
      "2018-11-27 23:16:22,161 DEBUG https://eternalwarcry.com:443 \"GET /collection?view=oo&p=8 HTTP/1.1\" 200 None\n",
      "2018-11-27 23:16:22,161 DEBUG https://eternalwarcry.com:443 \"GET /collection?view=oo&p=8 HTTP/1.1\" 200 None\n",
      "2018-11-27 23:16:22,161 DEBUG https://eternalwarcry.com:443 \"GET /collection?view=oo&p=8 HTTP/1.1\" 200 None\n",
      "2018-11-27 23:16:22,361 DEBUG https://eternalwarcry.com:443 \"GET /collection?view=oo&p=9 HTTP/1.1\" 200 None\n",
      "2018-11-27 23:16:22,361 DEBUG https://eternalwarcry.com:443 \"GET /collection?view=oo&p=9 HTTP/1.1\" 200 None\n",
      "2018-11-27 23:16:22,361 DEBUG https://eternalwarcry.com:443 \"GET /collection?view=oo&p=9 HTTP/1.1\" 200 None\n",
      "2018-11-27 23:16:22,603 DEBUG https://eternalwarcry.com:443 \"GET /collection?view=oo&p=10 HTTP/1.1\" 200 None\n",
      "2018-11-27 23:16:22,603 DEBUG https://eternalwarcry.com:443 \"GET /collection?view=oo&p=10 HTTP/1.1\" 200 None\n",
      "2018-11-27 23:16:22,603 DEBUG https://eternalwarcry.com:443 \"GET /collection?view=oo&p=10 HTTP/1.1\" 200 None\n",
      "2018-11-27 23:16:22,901 DEBUG https://eternalwarcry.com:443 \"GET /collection?view=oo&p=11 HTTP/1.1\" 200 None\n",
      "2018-11-27 23:16:22,901 DEBUG https://eternalwarcry.com:443 \"GET /collection?view=oo&p=11 HTTP/1.1\" 200 None\n",
      "2018-11-27 23:16:22,901 DEBUG https://eternalwarcry.com:443 \"GET /collection?view=oo&p=11 HTTP/1.1\" 200 None\n",
      "2018-11-27 23:16:23,071 DEBUG https://eternalwarcry.com:443 \"GET /collection?view=oo&p=12 HTTP/1.1\" 200 None\n",
      "2018-11-27 23:16:23,071 DEBUG https://eternalwarcry.com:443 \"GET /collection?view=oo&p=12 HTTP/1.1\" 200 None\n",
      "2018-11-27 23:16:23,071 DEBUG https://eternalwarcry.com:443 \"GET /collection?view=oo&p=12 HTTP/1.1\" 200 None\n",
      "2018-11-27 23:16:23,271 DEBUG https://eternalwarcry.com:443 \"GET /collection?view=oo&p=13 HTTP/1.1\" 200 None\n",
      "2018-11-27 23:16:23,271 DEBUG https://eternalwarcry.com:443 \"GET /collection?view=oo&p=13 HTTP/1.1\" 200 None\n",
      "2018-11-27 23:16:23,271 DEBUG https://eternalwarcry.com:443 \"GET /collection?view=oo&p=13 HTTP/1.1\" 200 None\n",
      "2018-11-27 23:16:23,421 DEBUG https://eternalwarcry.com:443 \"GET /collection?view=oo&p=14 HTTP/1.1\" 200 None\n",
      "2018-11-27 23:16:23,421 DEBUG https://eternalwarcry.com:443 \"GET /collection?view=oo&p=14 HTTP/1.1\" 200 None\n",
      "2018-11-27 23:16:23,421 DEBUG https://eternalwarcry.com:443 \"GET /collection?view=oo&p=14 HTTP/1.1\" 200 None\n",
      "2018-11-27 23:16:23,585 DEBUG https://eternalwarcry.com:443 \"GET /collection?view=oo&p=15 HTTP/1.1\" 200 None\n",
      "2018-11-27 23:16:23,585 DEBUG https://eternalwarcry.com:443 \"GET /collection?view=oo&p=15 HTTP/1.1\" 200 None\n",
      "2018-11-27 23:16:23,585 DEBUG https://eternalwarcry.com:443 \"GET /collection?view=oo&p=15 HTTP/1.1\" 200 None\n",
      "2018-11-27 23:16:23,771 DEBUG https://eternalwarcry.com:443 \"GET /collection?view=oo&p=16 HTTP/1.1\" 200 None\n",
      "2018-11-27 23:16:23,771 DEBUG https://eternalwarcry.com:443 \"GET /collection?view=oo&p=16 HTTP/1.1\" 200 None\n",
      "2018-11-27 23:16:23,771 DEBUG https://eternalwarcry.com:443 \"GET /collection?view=oo&p=16 HTTP/1.1\" 200 None\n",
      "2018-11-27 23:16:23,931 DEBUG https://eternalwarcry.com:443 \"GET /collection?view=oo&p=17 HTTP/1.1\" 200 None\n",
      "2018-11-27 23:16:23,931 DEBUG https://eternalwarcry.com:443 \"GET /collection?view=oo&p=17 HTTP/1.1\" 200 None\n",
      "2018-11-27 23:16:23,931 DEBUG https://eternalwarcry.com:443 \"GET /collection?view=oo&p=17 HTTP/1.1\" 200 None\n",
      "2018-11-27 23:16:24,101 DEBUG https://eternalwarcry.com:443 \"GET /collection?view=oo&p=18 HTTP/1.1\" 200 None\n",
      "2018-11-27 23:16:24,101 DEBUG https://eternalwarcry.com:443 \"GET /collection?view=oo&p=18 HTTP/1.1\" 200 None\n",
      "2018-11-27 23:16:24,101 DEBUG https://eternalwarcry.com:443 \"GET /collection?view=oo&p=18 HTTP/1.1\" 200 None\n",
      "2018-11-27 23:16:24,261 DEBUG https://eternalwarcry.com:443 \"GET /collection?view=oo&p=19 HTTP/1.1\" 200 None\n",
      "2018-11-27 23:16:24,261 DEBUG https://eternalwarcry.com:443 \"GET /collection?view=oo&p=19 HTTP/1.1\" 200 None\n",
      "2018-11-27 23:16:24,261 DEBUG https://eternalwarcry.com:443 \"GET /collection?view=oo&p=19 HTTP/1.1\" 200 None\n",
      "2018-11-27 23:16:24,431 DEBUG https://eternalwarcry.com:443 \"GET /collection?view=oo&p=20 HTTP/1.1\" 200 None\n",
      "2018-11-27 23:16:24,431 DEBUG https://eternalwarcry.com:443 \"GET /collection?view=oo&p=20 HTTP/1.1\" 200 None\n",
      "2018-11-27 23:16:24,431 DEBUG https://eternalwarcry.com:443 \"GET /collection?view=oo&p=20 HTTP/1.1\" 200 None\n",
      "2018-11-27 23:16:24,582 DEBUG https://eternalwarcry.com:443 \"GET /collection?view=oo&p=21 HTTP/1.1\" 200 None\n",
      "2018-11-27 23:16:24,582 DEBUG https://eternalwarcry.com:443 \"GET /collection?view=oo&p=21 HTTP/1.1\" 200 None\n",
      "2018-11-27 23:16:24,582 DEBUG https://eternalwarcry.com:443 \"GET /collection?view=oo&p=21 HTTP/1.1\" 200 None\n",
      "2018-11-27 23:16:24,742 DEBUG https://eternalwarcry.com:443 \"GET /collection?view=oo&p=22 HTTP/1.1\" 200 None\n",
      "2018-11-27 23:16:24,742 DEBUG https://eternalwarcry.com:443 \"GET /collection?view=oo&p=22 HTTP/1.1\" 200 None\n",
      "2018-11-27 23:16:24,742 DEBUG https://eternalwarcry.com:443 \"GET /collection?view=oo&p=22 HTTP/1.1\" 200 None\n",
      "2018-11-27 23:16:24,992 DEBUG https://eternalwarcry.com:443 \"GET /collection?view=oo&p=23 HTTP/1.1\" 200 None\n",
      "2018-11-27 23:16:24,992 DEBUG https://eternalwarcry.com:443 \"GET /collection?view=oo&p=23 HTTP/1.1\" 200 None\n",
      "2018-11-27 23:16:24,992 DEBUG https://eternalwarcry.com:443 \"GET /collection?view=oo&p=23 HTTP/1.1\" 200 None\n",
      "2018-11-27 23:16:25,151 DEBUG https://eternalwarcry.com:443 \"GET /collection?view=oo&p=24 HTTP/1.1\" 200 None\n",
      "2018-11-27 23:16:25,151 DEBUG https://eternalwarcry.com:443 \"GET /collection?view=oo&p=24 HTTP/1.1\" 200 None\n",
      "2018-11-27 23:16:25,151 DEBUG https://eternalwarcry.com:443 \"GET /collection?view=oo&p=24 HTTP/1.1\" 200 None\n",
      "2018-11-27 23:16:25,551 DEBUG https://eternalwarcry.com:443 \"GET /collection?view=oo&p=25 HTTP/1.1\" 200 None\n",
      "2018-11-27 23:16:25,551 DEBUG https://eternalwarcry.com:443 \"GET /collection?view=oo&p=25 HTTP/1.1\" 200 None\n",
      "2018-11-27 23:16:25,551 DEBUG https://eternalwarcry.com:443 \"GET /collection?view=oo&p=25 HTTP/1.1\" 200 None\n",
      "2018-11-27 23:16:25,741 DEBUG https://eternalwarcry.com:443 \"GET /collection?view=oo&p=26 HTTP/1.1\" 200 None\n"
     ]
    },
    {
     "name": "stderr",
     "output_type": "stream",
     "text": [
      "2018-11-27 23:16:25,741 DEBUG https://eternalwarcry.com:443 \"GET /collection?view=oo&p=26 HTTP/1.1\" 200 None\n",
      "2018-11-27 23:16:25,741 DEBUG https://eternalwarcry.com:443 \"GET /collection?view=oo&p=26 HTTP/1.1\" 200 None\n",
      "2018-11-27 23:16:25,901 DEBUG https://eternalwarcry.com:443 \"GET /collection?view=oo&p=27 HTTP/1.1\" 200 None\n",
      "2018-11-27 23:16:25,901 DEBUG https://eternalwarcry.com:443 \"GET /collection?view=oo&p=27 HTTP/1.1\" 200 None\n",
      "2018-11-27 23:16:25,901 DEBUG https://eternalwarcry.com:443 \"GET /collection?view=oo&p=27 HTTP/1.1\" 200 None\n",
      "2018-11-27 23:16:26,071 DEBUG https://eternalwarcry.com:443 \"GET /collection?view=oo&p=28 HTTP/1.1\" 200 None\n",
      "2018-11-27 23:16:26,071 DEBUG https://eternalwarcry.com:443 \"GET /collection?view=oo&p=28 HTTP/1.1\" 200 None\n",
      "2018-11-27 23:16:26,071 DEBUG https://eternalwarcry.com:443 \"GET /collection?view=oo&p=28 HTTP/1.1\" 200 None\n",
      "2018-11-27 23:16:26,241 DEBUG https://eternalwarcry.com:443 \"GET /collection?view=oo&p=29 HTTP/1.1\" 200 None\n",
      "2018-11-27 23:16:26,241 DEBUG https://eternalwarcry.com:443 \"GET /collection?view=oo&p=29 HTTP/1.1\" 200 None\n",
      "2018-11-27 23:16:26,241 DEBUG https://eternalwarcry.com:443 \"GET /collection?view=oo&p=29 HTTP/1.1\" 200 None\n",
      "2018-11-27 23:16:26,412 DEBUG https://eternalwarcry.com:443 \"GET /collection?view=oo&p=30 HTTP/1.1\" 200 None\n",
      "2018-11-27 23:16:26,412 DEBUG https://eternalwarcry.com:443 \"GET /collection?view=oo&p=30 HTTP/1.1\" 200 None\n",
      "2018-11-27 23:16:26,412 DEBUG https://eternalwarcry.com:443 \"GET /collection?view=oo&p=30 HTTP/1.1\" 200 None\n",
      "2018-11-27 23:16:26,593 DEBUG https://eternalwarcry.com:443 \"GET /collection?view=oo&p=31 HTTP/1.1\" 200 None\n",
      "2018-11-27 23:16:26,593 DEBUG https://eternalwarcry.com:443 \"GET /collection?view=oo&p=31 HTTP/1.1\" 200 None\n",
      "2018-11-27 23:16:26,593 DEBUG https://eternalwarcry.com:443 \"GET /collection?view=oo&p=31 HTTP/1.1\" 200 None\n",
      "2018-11-27 23:16:27,051 DEBUG https://eternalwarcry.com:443 \"GET /collection?view=oo&p=32 HTTP/1.1\" 200 None\n",
      "2018-11-27 23:16:27,051 DEBUG https://eternalwarcry.com:443 \"GET /collection?view=oo&p=32 HTTP/1.1\" 200 None\n",
      "2018-11-27 23:16:27,051 DEBUG https://eternalwarcry.com:443 \"GET /collection?view=oo&p=32 HTTP/1.1\" 200 None\n",
      "2018-11-27 23:16:27,181 DEBUG https://eternalwarcry.com:443 \"GET /collection?view=oo&p=33 HTTP/1.1\" 200 None\n",
      "2018-11-27 23:16:27,181 DEBUG https://eternalwarcry.com:443 \"GET /collection?view=oo&p=33 HTTP/1.1\" 200 None\n",
      "2018-11-27 23:16:27,181 DEBUG https://eternalwarcry.com:443 \"GET /collection?view=oo&p=33 HTTP/1.1\" 200 None\n"
     ]
    }
   ],
   "source": [
    "\"\"\"\n",
    "For those paying attention mechanize is python 2.x only, someone made mechanicalsoup\n",
    "(Love you), which if you read the tutorial we give you a brief intro along with show you how\n",
    "to login. This is compatible /w python 3.6. The code below takes in two command\n",
    "line parameterse delimited by a space; username password.\n",
    "\n",
    "ie: aggregate_card_json.py <username> <password>\n",
    "\n",
    "For now I have my u+p information manually punched in and works!\n",
    "\"\"\"\n",
    "\n",
    "# import argparse\n",
    "# parser = argparse.ArgumentParser(description=\"Login to EternalWarcry.\")\n",
    "# parser.add_argument(\"username\")\n",
    "# parser.add_argument(\"password\")\n",
    "# args = parser.parse_args()\n",
    "user = '<user>'\n",
    "passwd = '<pass>'\n",
    "\n",
    "import mechanicalsoup\n",
    "\n",
    "browser = mechanicalsoup.Browser(soup_config={'features': 'lxml'})\n",
    "\n",
    "# request eternalWarcry login page. the result is a requests.Response object\n",
    "login_page = browser.get(\"https://eternalwarcry.com/login\")\n",
    "\n",
    "# login_page.soup is a BeautifulSoup object\n",
    "\n",
    "# we grab the login form\n",
    "login_form = mechanicalsoup.Form(login_page.soup.select_one('form[action=\"/login\"]'))\n",
    "\n",
    "# specify username and password\n",
    "login_form.input({\"LoginEmail\": user, \"LoginPassword\": passwd})# REPLACE WITH args.username & args.password\n",
    "# submit form\n",
    "page2 = browser.submit(login_form, login_page.url)\n",
    "# Verify we logged in at Eternal Warcry...\n",
    "print(page2.soup.title.text)\n",
    "\n",
    "\n",
    "\n",
    "\n",
    "\n",
    "\n",
    "\n",
    "\n",
    "\n",
    "\"\"\"\n",
    "STEP TWO: ITERATE THROUGH EACH PAGE AND GRAB ALL OF THE INFORMATION FOR EACH CARD,\n",
    "PUT IT INTO A STRING IN THE PRETTY FORMAT THAT ETERNAL FOLLOWS, AND APPEND INTO A BIG LIST\n",
    "OUTPUT WHICH IS YOUR COLLECTION FROM ETERNALWARCRY\n",
    "(All this really does is save you time by not having to go into ->\"Deck Builder\" and\n",
    "add ALL your cards to a deck and exporting it.... :))\n",
    "\"\"\"\n",
    "page_num = 1\n",
    "check_last_pg = re.compile(r'\\b(No cards found in your collection)\\b')\n",
    "final_collection = []\n",
    "\n",
    "while True:\n",
    "    # Now that were logged in pull each link for our collection and grab the info\n",
    "    current_page = 'https://eternalwarcry.com/collection?view=oo&p=' + str(page_num)\n",
    "    page_num = page_num + 1 # Iterate don't wanna forget ;)\n",
    "    collection_page = browser.get(current_page) # Response object with .soup object\n",
    "    \n",
    "    # Get out of loop if we reach 'no cards exists' page.\n",
    "    if bool(check_last_pg.search(collection_page.text)):\n",
    "        break\n",
    "    \n",
    "    # Current Page. #collection_page.text because its response object\n",
    "    html_page = collection_page.soup \n",
    "    # Get all cards on this page.\n",
    "    divs = html_page.findAll(class_= 'card-search-item col-lg-3 col-sm-4 col-xs-6 add-card-main element-relative')  \n",
    "    for div in divs:\n",
    "        # This is where it gets fun. \n",
    "        # Each div is a card from the search_view. a href has the link which contains info.\n",
    "        card_name = str(div.find_all('a'))\n",
    "        #print(card_name) # This is to be searched for the name of card; can also acquire set and card#\n",
    "        card_details = str(div.find(class_ = 'display-count'))\n",
    "\n",
    "        # STEP TWO: FORMULATE CARD\n",
    "        # First part of string is count\n",
    "        count = str(re.search(r'data-count=\"(\\d)\"', card_details, re.IGNORECASE).group(1))\n",
    "\n",
    "        # Now get set - card#\n",
    "        card_set = str(re.search(r'data-card=\"(\\d+-\\d+)\"', card_details, re.IGNORECASE).group(1))\n",
    "        card_set = card_set.split('-')\n",
    "        details = '(Set' + str(card_set[0]) + ' #' + str(card_set[1]) + ')'\n",
    "\n",
    "        # Now get card name with grammar\n",
    "        name = str(re.search(r'<img alt=\"(.+)\" class=', card_name, re.IGNORECASE).group(1))\n",
    "\n",
    "        # Put it altogether....\n",
    "        item = count + ' ' + name + ' ' + details\n",
    "        #print(item)\n",
    "\n",
    "        # Drop each page into a list for later...\n",
    "        final_collection.append(item)\n",
    "        \n",
    "        \n",
    "# final_collection # Uncomment to see list."
   ]
  },
  {
   "cell_type": "code",
   "execution_count": 114,
   "metadata": {},
   "outputs": [
    {
     "data": {
      "text/plain": [
       "1020"
      ]
     },
     "execution_count": 114,
     "metadata": {},
     "output_type": "execute_result"
    }
   ],
   "source": [
    "len(final_collection) # Wow that numbers off! Eternal Statistics say I should have 68% 3,691/5,424 cards total.\n",
    "# But let's think: IT's because it is only looking at the unique cards! So lets do math."
   ]
  },
  {
   "cell_type": "code",
   "execution_count": null,
   "metadata": {
    "collapsed": true
   },
   "outputs": [],
   "source": [
    "# Grab first character of each string (which we know is the count of each card in our collection up to 4) and add it.\n",
    "total_cards = 0\n",
    "for x in final_collection:\n",
    "    total_cards = total_cards + int(x[0])\n",
    "total_cards\n",
    "\n",
    "output_json = {'total_cards': total_cards, 'my_collection': final_collection}"
   ]
  },
  {
   "cell_type": "code",
   "execution_count": null,
   "metadata": {
    "collapsed": true
   },
   "outputs": [],
   "source": [
    "# Cool! WE got an accurate record of our cards, minus the Commons and UnCommons. Success for tonight.\n",
    "# Output to a JSON file because sexy\n",
    "with open('my_collection.json', 'w') as fp:\n",
    "    json.dump(output_json, fp)"
   ]
  },
  {
   "cell_type": "code",
   "execution_count": null,
   "metadata": {
    "collapsed": true
   },
   "outputs": [],
   "source": []
  },
  {
   "cell_type": "code",
   "execution_count": 41,
   "metadata": {
    "collapsed": true
   },
   "outputs": [],
   "source": [
    "ex1 = [1,2,3,4,5,6,7,10]\n",
    "ex2 = [1,2,3,4,5,6,7,8,9,10,11,12,14,15,17,18,19,20]\n"
   ]
  },
  {
   "cell_type": "code",
   "execution_count": 42,
   "metadata": {
    "collapsed": true
   },
   "outputs": [],
   "source": [
    "def rekt(numbers):\n",
    "    missing = []\n",
    "    counter = 2\n",
    "    numbers\n",
    "    while counter != len(numbers):\n",
    "        i = 0\n",
    "        if numbers[i]+1 != counter:\n",
    "            missing.append()\n",
    "    \n",
    "    return missing"
   ]
  },
  {
   "cell_type": "code",
   "execution_count": 43,
   "metadata": {},
   "outputs": [
    {
     "data": {
      "text/plain": [
       "[8]"
      ]
     },
     "execution_count": 43,
     "metadata": {},
     "output_type": "execute_result"
    }
   ],
   "source": [
    "heh = rekt(ex1)\n",
    "heh"
   ]
  },
  {
   "cell_type": "code",
   "execution_count": 32,
   "metadata": {
    "collapsed": true
   },
   "outputs": [],
   "source": [
    "test = [1,2,3,4]"
   ]
  },
  {
   "cell_type": "code",
   "execution_count": 33,
   "metadata": {
    "collapsed": true
   },
   "outputs": [],
   "source": [
    "test.insert(len(test)-1, 5)"
   ]
  },
  {
   "cell_type": "code",
   "execution_count": 34,
   "metadata": {},
   "outputs": [
    {
     "data": {
      "text/plain": [
       "[1, 2, 3, 5, 4]"
      ]
     },
     "execution_count": 34,
     "metadata": {},
     "output_type": "execute_result"
    }
   ],
   "source": [
    "test"
   ]
  },
  {
   "cell_type": "code",
   "execution_count": null,
   "metadata": {
    "collapsed": true
   },
   "outputs": [],
   "source": []
  },
  {
   "cell_type": "code",
   "execution_count": null,
   "metadata": {
    "collapsed": true
   },
   "outputs": [],
   "source": []
  },
  {
   "cell_type": "code",
   "execution_count": null,
   "metadata": {
    "collapsed": true
   },
   "outputs": [],
   "source": []
  },
  {
   "cell_type": "code",
   "execution_count": null,
   "metadata": {
    "collapsed": true
   },
   "outputs": [],
   "source": []
  },
  {
   "cell_type": "code",
   "execution_count": null,
   "metadata": {
    "collapsed": true
   },
   "outputs": [],
   "source": []
  }
 ],
 "metadata": {
  "kernelspec": {
   "display_name": "Python 3",
   "language": "python",
   "name": "python3"
  },
  "language_info": {
   "codemirror_mode": {
    "name": "ipython",
    "version": 3
   },
   "file_extension": ".py",
   "mimetype": "text/x-python",
   "name": "python",
   "nbconvert_exporter": "python",
   "pygments_lexer": "ipython3",
   "version": "3.6.3"
  }
 },
 "nbformat": 4,
 "nbformat_minor": 2
}
