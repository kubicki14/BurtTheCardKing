{
 "cells": [
  {
   "cell_type": "code",
   "execution_count": 2,
   "metadata": {},
   "outputs": [],
   "source": [
    "r'''\n",
    "PREREQS: \n",
    "\n",
    "    -DOWNLOAD https://github.com/mozilla/geckodriver/releases\n",
    "          for selenium firefox web driver (default)\n",
    "          Now set ENV_VAR by running below command in cmd/powershell:\n",
    "          setx path \"%path%;c:\\Users\\USERNAMEHERE\\Downloads\\geckodriver-v0.23.0-win64\"\n",
    "          \n",
    "    -pip install mechanicalsoup\n",
    "    \n",
    "    -pip install selenium\n",
    "    \n",
    "    -pip install pyperclip\n",
    "    \n",
    "    ________________________________\n",
    "    \n",
    "    Example format for extraction:\n",
    "    Count | Card Name | (Set# Card#)\n",
    "\n",
    "    2 Trail Stories (Set1 #188)\n",
    "    4 Horus Traver (Set1002 #23)\n",
    "    4 Longbarrel (Set4 #5)\n",
    "    4 On the Hunt (Set2 #5)\n",
    "    4 Oni Dragonsmith (Set1003 #2)\n",
    "'''\n",
    "import re\n",
    "import requests\n",
    "from bs4 import BeautifulSoup\n",
    "import json\n",
    "import warnings\n",
    "import mechanicalsoup\n",
    "import pyperclip\n",
    "warnings.filterwarnings(action='once')"
   ]
  },
  {
   "cell_type": "markdown",
   "metadata": {},
   "source": [
    "# I: Login and extract collection fully from eternal warcry."
   ]
  },
  {
   "cell_type": "markdown",
   "metadata": {},
   "source": [
    "## Note: Remove user/pass lane later!"
   ]
  },
  {
   "cell_type": "code",
   "execution_count": null,
   "metadata": {
    "scrolled": true
   },
   "outputs": [],
   "source": [
    "\"\"\"\n",
    "For those paying attention mechanize is python 2.x only, someone made mechanicalsoup\n",
    "(Love you), which if you read the tutorial will give you a brief intro along with show you how\n",
    "to login. This is compatible /w python 3.6. The code below takes in two command\n",
    "line parameterse delimited by a space; username password.\n",
    "\n",
    "ie: aggregate_card_json.py <username> <password>\n",
    "\n",
    "For now I have my u+p information manually punched in and works!\n",
    "\"\"\"\n",
    "\n",
    "# import argparse\n",
    "# parser = argparse.ArgumentParser(description=\"Login to EternalWarcry.\")\n",
    "# parser.add_argument(\"username\")\n",
    "# parser.add_argument(\"password\")\n",
    "# args = parser.parse_args()\n",
    "user = '<user>'\n",
    "passwd = '<pass>'\n",
    "\n",
    "browser = mechanicalsoup.Browser(soup_config={'features': 'lxml'})\n",
    "\n",
    "# request eternalWarcry login page. the result is a requests.Response object\n",
    "login_page = browser.get(\"https://eternalwarcry.com/login\")\n",
    "\n",
    "# login_page.soup is a BeautifulSoup object\n",
    "\n",
    "# we grab the login form\n",
    "login_form = mechanicalsoup.Form(login_page.soup.select_one('form[action=\"/login\"]'))\n",
    "\n",
    "# specify username and password\n",
    "login_form.input({\"LoginEmail\": user, \"LoginPassword\": passwd})# REPLACE WITH args.username & args.password\n",
    "# submit form\n",
    "page2 = browser.submit(login_form, login_page.url)\n",
    "# Verify we logged in at Eternal Warcry...\n",
    "print(page2.soup.title.text)\n",
    "\n",
    "\"\"\"\n",
    "STEP TWO: ITERATE THROUGH EACH PAGE AND GRAB ALL OF THE INFORMATION FOR EACH CARD,\n",
    "PUT IT INTO A STRING IN THE PRETTY FORMAT THAT ETERNAL FOLLOWS, AND APPEND INTO A BIG LIST\n",
    "OUTPUT WHICH IS YOUR COLLECTION FROM ETERNALWARCRY\n",
    "(All this really does is save you time by not having to go into ->\"Deck Builder\" and\n",
    "add ALL your cards to a deck and exporting it.... :))\n",
    "\"\"\"\n",
    "page_num = 1\n",
    "check_last_pg = re.compile(r'\\b(No cards found in your collection)\\b')\n",
    "final_collection = []\n",
    "\n",
    "while True:\n",
    "    # Now that were logged in pull each link for our collection and grab the info\n",
    "    current_page = 'https://eternalwarcry.com/collection?view=oo&p=' + str(page_num)\n",
    "    page_num = page_num + 1 # Iterate don't wanna forget ;)\n",
    "    collection_page = browser.get(current_page) # Response object with .soup object\n",
    "    \n",
    "    # Get out of loop if we reach 'no cards exists' page.\n",
    "    if bool(check_last_pg.search(collection_page.text)):\n",
    "        break\n",
    "    \n",
    "    # Current Page. #collection_page.text because its response object\n",
    "    html_page = collection_page.soup \n",
    "    # Get all cards on this page.\n",
    "    divs = html_page.findAll(class_= 'card-search-item col-lg-3 col-sm-4 col-xs-6 add-card-main element-relative')  \n",
    "    for div in divs:\n",
    "        # This is where it gets fun. \n",
    "        # Each div is a card from the search_view. a href has the link which contains info.\n",
    "        card_name = str(div.find_all('a'))\n",
    "        #print(card_name) # This is to be searched for the name of card; can also acquire set and card#\n",
    "        card_details = str(div.find(class_ = 'display-count'))\n",
    "\n",
    "        # STEP TWO: FORMULATE CARD\n",
    "        # First part of string is count\n",
    "        count = str(re.search(r'data-count=\"(\\d)\"', card_details, re.IGNORECASE).group(1))\n",
    "\n",
    "        # Now get set - card#\n",
    "        card_set = str(re.search(r'data-card=\"(\\d+-\\d+)\"', card_details, re.IGNORECASE).group(1))\n",
    "        card_set = card_set.split('-')\n",
    "        details = '(Set' + str(card_set[0]) + ' #' + str(card_set[1]) + ')'\n",
    "\n",
    "        # Now get card name with grammar\n",
    "        name = str(re.search(r'<img alt=\"(.+)\" class=', card_name, re.IGNORECASE).group(1))\n",
    "\n",
    "        # Put it altogether....\n",
    "        item = count + ' ' + name + ' ' + details\n",
    "        #print(item)\n",
    "\n",
    "        # Drop each page into a list for later...\n",
    "        final_collection.append(item)\n",
    "        \n",
    "        \n",
    "# TODO: ADD SHIFSTONE AMOUNT TO MY_COLLECTION FOR BETTER ANALYSIS "
   ]
  },
  {
   "cell_type": "code",
   "execution_count": null,
   "metadata": {},
   "outputs": [],
   "source": [
    "len(final_collection) # Wow that numbers off! Eternal Statistics say I should have 68% 3,691/5,424 cards total.\n",
    "# But let's think: IT's because it is only looking at the unique cards! So lets do math."
   ]
  },
  {
   "cell_type": "code",
   "execution_count": null,
   "metadata": {},
   "outputs": [],
   "source": [
    "# Grab first character of each string (which we know is the count of each card in our collection up to 4) and add it.\n",
    "total_cards = 0\n",
    "for x in final_collection:\n",
    "    total_cards = total_cards + int(x[0])\n",
    "total_cards\n",
    "\n",
    "output_json = {'total_cards': total_cards, 'my_collection': final_collection}"
   ]
  },
  {
   "cell_type": "code",
   "execution_count": null,
   "metadata": {},
   "outputs": [],
   "source": [
    "# Cool! WE got an accurate record of our cards, minus the Commons and UnCommons. Success for tonight.\n",
    "# Output to a JSON file because sexy\n",
    "with open('my_collection.json', 'w') as fp:\n",
    "    json.dump(output_json, fp)"
   ]
  },
  {
   "cell_type": "code",
   "execution_count": 3,
   "metadata": {
    "scrolled": true
   },
   "outputs": [
    {
     "data": {
      "text/plain": [
       "3691"
      ]
     },
     "execution_count": 3,
     "metadata": {},
     "output_type": "execute_result"
    }
   ],
   "source": [
    "# Pull json back thru json file created above.\n",
    "with open('my_collection.json', 'rb') as f:\n",
    "    collection = json.load(f) #json with collection\n",
    "collection['total_cards'] # Show total_cards from json object."
   ]
  },
  {
   "cell_type": "markdown",
   "metadata": {},
   "source": [
    "## _______________________________________________________"
   ]
  },
  {
   "cell_type": "markdown",
   "metadata": {
    "collapsed": true
   },
   "source": [
    "# II:  Import featured decks on home page, and export into list!"
   ]
  },
  {
   "cell_type": "code",
   "execution_count": 4,
   "metadata": {
    "scrolled": false
   },
   "outputs": [
    {
     "name": "stdout",
     "output_type": "stream",
     "text": [
      "['https://eternalwarcry.com/decks/details/fQ9xSyccE44/anti-fjs-peaks-aggro-dec', 'https://eternalwarcry.com/decks/details/IRIyMzzYs_w/kubis-deck', 'https://eternalwarcry.com/decks/details/tvInDyBOJPw/kiss-me-telut-2-0', 'https://eternalwarcry.com/decks/details/HvAvmLaBhYk/argenport-snacks', 'https://eternalwarcry.com/decks/details/KyM8byUkeaw/warhelm-rakano-aggro-top-15', 'https://eternalwarcry.com/decks/details/zQaZBwY7YuA/23-5-ecq-burning-hope-winchest-ramp']\n"
     ]
    }
   ],
   "source": [
    "\"\"\"\n",
    "First this cell compiles a list of links to each featured deck.\n",
    "Sidenote: Don't need user info for this portion\n",
    "This also opens a firefox browser because this is NOT done in headless mode. Investigate further later.\n",
    "\"\"\"\n",
    "browser = mechanicalsoup.Browser(soup_config={'features': 'lxml'})\n",
    "deck_links = []\n",
    "home_page = 'https://eternalwarcry.com'\n",
    "\n",
    "# Response for home page\n",
    "page = browser.get(home_page) # Contains a .soup object.\n",
    "\n",
    "# Get each featured deck div on the homepage.\n",
    "feature_divs = page.soup.findAll(class_= 'col-sm-6 col-md-4 col-sm-6 push-b')\n",
    "for div in feature_divs:\n",
    "    # Pulls link for each deck.\n",
    "    deck_url = home_page + div.find('a')['href']\n",
    "    # Appends to list of links.\n",
    "    deck_links.append(deck_url)\n",
    "    \n",
    "print(deck_links) #Show list of links to each deck."
   ]
  },
  {
   "cell_type": "code",
   "execution_count": 6,
   "metadata": {
    "scrolled": true
   },
   "outputs": [
    {
     "data": {
      "text/plain": [
       "['4 Seat of Wisdom (Set0 #63)',\n",
       " '4 Sandstorm Titan (Set1 #99)',\n",
       " '4 Permafrost (Set1 #193)',\n",
       " '4 Second Sight (Set1 #207)',\n",
       " '2 Mirror Image (Set1 #217)',\n",
       " '4 Elysian Banner (Set1 #421)',\n",
       " '4 Diplomatic Seal (Set1 #425)',\n",
       " '4 Clockroach (Set1 #94)',\n",
       " '4 Time Sigil (Set1 #63)',\n",
       " '5 Primal Sigil (Set1 #187)',\n",
       " '4 Crest of Wisdom (Set3 #261)',\n",
       " '4 Jotun Feast-Caller (Set3 #187)',\n",
       " '4 Dusk Raider (Set4 #153)',\n",
       " '4 Journey Guide (Set4 #53)',\n",
       " '4 Teacher of Humility (Set4 #67)',\n",
       " '4 Cykalis, the Burning Sand (Set5 #57)',\n",
       " '4 Great Valley Smuggler (Set5 #204)',\n",
       " \"4 Torgov's Trading Post (Set5 #203)\",\n",
       " '4 Equivocate (Set1003 #21)',\n",
       " '--------------MARKET---------------',\n",
       " '1 Crystallize (Set1 #232)',\n",
       " '1 Twilight Hunt (Set3 #59)',\n",
       " \"1 Winter's Grasp (Set3 #168)\",\n",
       " '1 The Praxis Arcanum (Set5 #56)',\n",
       " '1 Passage of Eons (Set1001 #3)']"
      ]
     },
     "execution_count": 6,
     "metadata": {},
     "output_type": "execute_result"
    }
   ],
   "source": [
    "\"\"\"\n",
    " This cell goes to each link, clicks the export button, and puts each deck into a list with each card+count being a string.\n",
    " Note: We now need selenium to complete actions, because mechanicalsoup does not like javascript.\n",
    " Supernote: You may get a permission denied initially when running this, run it again; it will work.\n",
    "\"\"\"\n",
    "from selenium import webdriver\n",
    "from selenium.webdriver.firefox.firefox_binary import FirefoxBinary\n",
    "from selenium.webdriver.common.keys import Keys\n",
    "\n",
    "# Call out location for firefox if your special like me and use quantum - This literally opens a browser everytime.\n",
    "binary = FirefoxBinary(r'C:\\Program Files\\Firefox Developer Edition\\firefox.exe')\n",
    "driver = webdriver.Firefox(firefox_binary=binary) #Consider headless...\n",
    "decks_messy = []\n",
    "\n",
    "for link in deck_links:\n",
    "    # Goto link for deck.\n",
    "    driver.get(link)\n",
    "    # Select \"export-deck\" button. (Using the Xpath; Mark recommends against this; Investigate later)\n",
    "    button = driver.find_element_by_xpath('//*[@id=\"export-deck\"]')\n",
    "    # Click the export deck button\n",
    "    button.click()\n",
    "    # Now grab deck text from clipboard (literal head-firefox clipboard)\n",
    "    deck_to_be_parsed = pyperclip.paste()\n",
    "    decks_messy.append(deck_to_be_parsed)\n",
    "\n",
    "decks_clean = [] # Make each card its own string in a list. Make market apart of this, spaced out by word\n",
    "for deck in decks_messy:\n",
    "    # Split single string of deck into list itself. (including market for easy access)\n",
    "    current_deck = deck.split('\\r\\n')\n",
    "    decks_clean.append(current_deck) # list containing lists of decks (lol)\n",
    "decks_clean[0]"
   ]
  },
  {
   "cell_type": "markdown",
   "metadata": {},
   "source": [
    "# III: Compare cards and count to reach a similarity percentage!"
   ]
  },
  {
   "cell_type": "code",
   "execution_count": 7,
   "metadata": {
    "scrolled": true
   },
   "outputs": [
    {
     "data": {
      "text/plain": [
       "['4 Seat of Fury (Set0 #53)',\n",
       " '4 Grenadin Drone (Set1 #5)',\n",
       " '4 Seek Power (Set1 #408)',\n",
       " '4 Torch (Set1 #8)',\n",
       " '3 Assembly Line (Set1 #29)',\n",
       " '4 Wisdom of the Elders (Set1 #218)',\n",
       " '2 Jotun Hurler (Set1 #227)',\n",
       " '3 Fire Sigil (Set1 #1)',\n",
       " '6 Primal Sigil (Set1 #187)',\n",
       " '4 Skycrag Banner (Set2 #186)',\n",
       " '4 Strategize (Set3 #165)',\n",
       " '3 Combustion Cell (Set3 #7)',\n",
       " '4 Granite Waystone (Set3 #1)',\n",
       " '4 Crest of Fury (Set3 #266)',\n",
       " '4 Spark Hatcher (Set3 #12)',\n",
       " '4 End of Hostilities (Set4 #187)',\n",
       " '4 Kenna, Shaman of the Scale (Set4 #191)',\n",
       " '2 Xo of the Endless Hoard (Set5 #36)',\n",
       " '4 Howling Peak Smuggler (Set5 #215)',\n",
       " '3 Howling Peak (Set5 #219)',\n",
       " '1 Cauldron Cookbook (Set1004 #2)',\n",
       " '--------------MARKET---------------',\n",
       " '1 Molot & Nakova (Set2 #199)',\n",
       " '1 Unseal (Set3 #167)',\n",
       " '1 Torrential Downpour (Set4 #163)',\n",
       " '1 Elvish Swindler (Set5 #141)',\n",
       " '1 Bore (Set1003 #1)']"
      ]
     },
     "execution_count": 7,
     "metadata": {},
     "output_type": "execute_result"
    }
   ],
   "source": [
    "# Verify we have our featured decks for the week.\n",
    "decks_clean[1] # Another deck from featured."
   ]
  },
  {
   "cell_type": "code",
   "execution_count": 10,
   "metadata": {
    "scrolled": true
   },
   "outputs": [
    {
     "data": {
      "text/plain": [
       "['4 Granite Monument (Set1 #423)',\n",
       " '4 Granite Waystone (Set3 #1)',\n",
       " '4 Shugo Standard (Set4 #1)',\n",
       " '4 Helpful Doorbot (Set3 #2)',\n",
       " '2 Trail Stories (Set1 #188)']"
      ]
     },
     "execution_count": 10,
     "metadata": {},
     "output_type": "execute_result"
    }
   ],
   "source": [
    "collection['my_collection'][:5] # Verify we have our collection imported; This grabs first 5 items in the list."
   ]
  },
  {
   "cell_type": "code",
   "execution_count": 9,
   "metadata": {
    "scrolled": false
   },
   "outputs": [
    {
     "name": "stdout",
     "output_type": "stream",
     "text": [
      "You own: 47.5% of the deck. Your missing these cards:\n",
      "['3 Sandstorm Titan (Set1 #99)', '1 Clockroach (Set1 #94)', '4 Crest of Wisdom (Set3 #261)', '3 Jotun Feast-Caller (Set3 #187)', '4 Teacher of Humility (Set4 #67)', '4 Cykalis, the Burning Sand (Set5 #57)', '4 Great Valley Smuggler (Set5 #204)', \"4 Torgov's Trading Post (Set5 #203)\", '4 Equivocate (Set1003 #21)', '1 Twilight Hunt (Set3 #59)', '1 The Praxis Arcanum (Set5 #56)']\n",
      "\n",
      "You own: 57.5% of the deck. Your missing these cards:\n",
      "['3 Combustion Cell (Set3 #7)', '2 Crest of Fury (Set3 #266)', '4 End of Hostilities (Set4 #187)', '3 Kenna, Shaman of the Scale (Set4 #191)', '2 Xo of the Endless Hoard (Set5 #36)', '4 Howling Peak Smuggler (Set5 #215)', '3 Howling Peak (Set5 #219)', '1 Cauldron Cookbook (Set1004 #2)', '1 Molot & Nakova (Set2 #199)', '1 Elvish Swindler (Set5 #141)', '1 Bore (Set1003 #1)']\n",
      "\n",
      "You own: 36.25% of the deck. Your missing these cards:\n",
      "['1 Auric Runehammer (Set1 #166)', '4 Defiance (Set5 #77)', '4 Hojan, Crownbreaker (Set5 #86)', '3 Avigraft (Set5 #95)', \"4 Rhysta, Acantha's Herald (Set5 #168)\", '4 Lost Scroll (Set5 #208)', '4 Hidden Road Smuggler (Set5 #210)', \"4 Telut, Queen's Hand (Set1004 #12)\", '2 Unwavering Exorcist (Set1004 #9)', '4 Vara, Vengeance-Seeker (Set1004 #19)', '1 Devastating Setback (Set3 #226)', '1 Amilli, Cloudmarshal (Set3 #136)', \"1 Martyr's Chains (Set5 #110)\", \"1 Regent's Tomb (Set5 #213)\"]\n",
      "\n",
      "You own: 61.25% of the deck. Your missing these cards:\n",
      "['4 Inquisitor Makto (Set2 #242)', '3 End of the Story (Set4 #138)', '4 Lost Scroll (Set5 #208)', '4 Hidden Road Smuggler (Set5 #210)', \"4 Regent's Tomb (Set5 #213)\", '1 Avigraft (Set5 #95)', \"1 Martyr's Chains (Set5 #110)\", \"1 Dizo's Office (Set5 #182)\"]\n",
      "\n",
      "You own: 65.0% of the deck. Your missing these cards:\n",
      "['4 Hojan, Crownbreaker (Set5 #86)', '4 Highland Sharpshooter (Set5 #197)', '4 Red Canyon Smuggler (Set5 #198)', \"3 Inquisitor's Blade (Set1003 #9)\", '1 Deepforged Plate (Set1 #317)', \"1 Svetya's Bravery (Set5 #79)\", '1 Avigraft (Set5 #95)', '1 Bore (Set1003 #1)']\n",
      "\n",
      "You own: 33.75% of the deck. Your missing these cards:\n",
      "['2 Crest of Chaos (Set3 #268)', '2 Bulletshaper (Set4 #244)', '2 Crest of Glory (Set4 #243)', '4 Rizahn, Greatbow Master (Set4 #246)', '4 Xo of the Endless Hoard (Set5 #36)', '4 Red Canyon Smuggler (Set5 #198)', '4 Lost Scroll (Set5 #208)', '4 Hidden Road Smuggler (Set5 #210)', '4 Winchest Cargo (Set5 #237)', '4 Display of Ambition (Set5 #239)', '4 Quarry (Set1001 #15)', '2 Vara, Vengeance-Seeker (Set1004 #19)', '1 Statuary Maiden (Set1 #387)', \"1 Martyr's Chains (Set5 #110)\", \"1 Regent's Tomb (Set5 #213)\", '1 Bore (Set1003 #1)']\n",
      "\n"
     ]
    }
   ],
   "source": [
    "\"\"\"\n",
    " For initial pass, this cell will count the cards we have to make the deck already, and count the total cards in the deck.\\\n",
    " Then it will output the percentage we have, and what were missing. :)\n",
    "\"\"\"\n",
    "for current_deck in decks_clean:\n",
    "    # Remove market delimiter *card* for now. Unecessary.\n",
    "    if '--------------MARKET---------------' in current_deck: current_deck.remove('--------------MARKET---------------')\n",
    "    user_count = 0\n",
    "    deck_count = 0\n",
    "    cards_missing = []\n",
    "    # For each card in this deck instance.\n",
    "    for current_card in current_deck:\n",
    "        found_card = False\n",
    "        # Split deck's current card into count and name.\n",
    "        deck_card = current_card.split(\" \",1)  # The 1 indicates split on the FIRST space only.\n",
    "\n",
    "        # Check if the deck card is in our collection.\n",
    "        for card in collection['my_collection']:\n",
    "            if deck_card[1] in card:\n",
    "                # WE HAVE THE CARD! Now how many?\n",
    "                found_card = True # Set flag to NOT add to missing list.\n",
    "                temp_user_card = card.split(\" \",1)  # This holds the count of THAT card that we have in our collection.\n",
    "                # Below we deduce if we have all the cards, less, or more than needed for the deck.\n",
    "                if temp_user_card[0] == deck_card[0]:\n",
    "                    # This means we need 4, we have 4 (4-4)\n",
    "                    x = temp_user_card[0]\n",
    "                elif (int(temp_user_card[0]) - int(deck_card[0])) > 0:\n",
    "                    # This means, for example, we have 4 of a specific card and the deck only requires 2.\n",
    "                    x = deck_card[0]\n",
    "                else:\n",
    "                    # This means we have LESS of a specific card than the amount we need...\n",
    "                    x = temp_user_card[0]\n",
    "                    # Give amount were missing and the card. Append to missing_cards.\n",
    "                    amount_missing_card = str(int(deck_card[0]) - int(temp_user_card[0])) + \" \" + deck_card[1]\n",
    "                    cards_missing.append(amount_missing_card)\n",
    "                # Add the cards we do have to our user_count. Also make sure we don't add more than deck has! (ie deck has 2, we have 4)\n",
    "                user_count = user_count + int(x)\n",
    "                \n",
    "                \n",
    "        if not found_card and 'Sigil' not in current_card:\n",
    "            # We DON'T have the card at all! Add it to our missing cards list.\n",
    "            cards_missing.append(current_card)\n",
    "        # No matter what add the count to deck_count!\n",
    "        deck_count = deck_count + int(deck_card[0])\n",
    "        \n",
    "        \n",
    "    similarity_prob = (float(user_count)/float(deck_count)) * 100\n",
    "    print('You own: ' + str(round(similarity_prob, 2)) + '% of the deck. Your missing these cards:')\n",
    "    print(cards_missing)\n",
    "    print('')"
   ]
  },
  {
   "cell_type": "code",
   "execution_count": null,
   "metadata": {
    "scrolled": true
   },
   "outputs": [],
   "source": [
    "# Success! First run we simply wanted a percentage of the cards we already have for a deck, next step would be calculating \n",
    "# the CHEAPEST decks to finish creating (ie: some cards are legendary, thus cost a LOT more to craft with shifstone)"
   ]
  },
  {
   "cell_type": "code",
   "execution_count": null,
   "metadata": {},
   "outputs": [],
   "source": []
  }
 ],
 "metadata": {
  "kernelspec": {
   "display_name": "Python 3",
   "language": "python",
   "name": "python3"
  },
  "language_info": {
   "codemirror_mode": {
    "name": "ipython",
    "version": 3
   },
   "file_extension": ".py",
   "mimetype": "text/x-python",
   "name": "python",
   "nbconvert_exporter": "python",
   "pygments_lexer": "ipython3",
   "version": "3.6.5"
  }
 },
 "nbformat": 4,
 "nbformat_minor": 2
}
